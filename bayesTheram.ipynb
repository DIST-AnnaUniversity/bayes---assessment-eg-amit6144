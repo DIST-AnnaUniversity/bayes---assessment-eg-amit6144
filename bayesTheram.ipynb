{
  "nbformat": 4,
  "nbformat_minor": 0,
  "metadata": {
    "colab": {
      "provenance": []
    },
    "kernelspec": {
      "name": "python3",
      "display_name": "Python 3"
    },
    "language_info": {
      "name": "python"
    }
  },
  "cells": [
    {
      "cell_type": "markdown",
      "source": [
        "1.There are 100 students in a class. Consider these facts:\n",
        "\n",
        "5 boys have books\n",
        "\n",
        "35 boys do not have books\n",
        "\n",
        "20 girls have \n",
        "\n",
        "40 girls do not have books\n",
        "\n",
        "  Find the probability of a student having book, given a boy using Bayes theorem. "
      ],
      "metadata": {
        "id": "-Nrmt0am1lrx"
      }
    },
    {
      "cell_type": "code",
      "source": [
        "def prob(expect,total):\n",
        "  return expect/total"
      ],
      "metadata": {
        "id": "qUupRJBy3M_n"
      },
      "execution_count": 25,
      "outputs": []
    },
    {
      "cell_type": "code",
      "source": [
        "def bayesTheorem(pbook, pBoys, pBoysbook):\n",
        "    return (pbook * pBoysbook) / pBoys"
      ],
      "metadata": {
        "id": "MltVekNn_h49"
      },
      "execution_count": 26,
      "outputs": []
    },
    {
      "cell_type": "markdown",
      "source": [
        "**Calculate Probablity**"
      ],
      "metadata": {
        "id": "KFkBM5PD5FFy"
      }
    },
    {
      "cell_type": "code",
      "source": [
        "total=100\n",
        "boys=40\n",
        "girls=60\n",
        "boysBook=5\n",
        "girlsBook=20\n",
        "pofbook=prob(25,100)\n",
        "prob_boys_books=prob(5,25)\n",
        "prob_boys=prob(40,100)\n",
        "print((25/100)*(5/25)/(40/100))"
      ],
      "metadata": {
        "colab": {
          "base_uri": "https://localhost:8080/"
        },
        "id": "H-us2yrk1yiL",
        "outputId": "ab48badb-be1a-40a6-c00a-ba35f27a9ea2"
      },
      "execution_count": 27,
      "outputs": [
        {
          "output_type": "stream",
          "name": "stdout",
          "text": [
            "0.125\n"
          ]
        }
      ]
    },
    {
      "cell_type": "code",
      "source": [
        "print(\"probablity oh boys that having book: \"+str(bayesTheorem(pofbook,prob_boys,prob_boys_books)))"
      ],
      "metadata": {
        "colab": {
          "base_uri": "https://localhost:8080/"
        },
        "id": "Mn1Pt8pb5NTq",
        "outputId": "21fed92e-60db-49b0-e7c7-ab8401c80f05"
      },
      "execution_count": 28,
      "outputs": [
        {
          "output_type": "stream",
          "name": "stdout",
          "text": [
            "probablity oh boys that having book: 0.125\n"
          ]
        }
      ]
    }
  ]
}